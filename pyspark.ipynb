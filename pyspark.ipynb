{
 "cells": [
  {
   "cell_type": "code",
   "execution_count": 3,
   "id": "5d730219-f5f3-43dd-b173-b31d604b66c8",
   "metadata": {},
   "outputs": [
    {
     "name": "stdout",
     "output_type": "stream",
     "text": [
      "^C\n"
     ]
    }
   ],
   "source": [
    "!pip install pyspark"
   ]
  },
  {
   "cell_type": "code",
   "execution_count": 1,
   "id": "a0c20926-0329-46a9-9e67-e784e047a37b",
   "metadata": {},
   "outputs": [],
   "source": [
    "import pyspark"
   ]
  },
  {
   "cell_type": "code",
   "execution_count": 1,
   "id": "b6a9ea6f-a71d-4cb2-8a1e-c7d4b777de0b",
   "metadata": {},
   "outputs": [
    {
     "data": {
      "text/html": [
       "<div>\n",
       "<style scoped>\n",
       "    .dataframe tbody tr th:only-of-type {\n",
       "        vertical-align: middle;\n",
       "    }\n",
       "\n",
       "    .dataframe tbody tr th {\n",
       "        vertical-align: top;\n",
       "    }\n",
       "\n",
       "    .dataframe thead th {\n",
       "        text-align: right;\n",
       "    }\n",
       "</style>\n",
       "<table border=\"1\" class=\"dataframe\">\n",
       "  <thead>\n",
       "    <tr style=\"text-align: right;\">\n",
       "      <th></th>\n",
       "      <th>PassengerId</th>\n",
       "      <th>Pclass</th>\n",
       "      <th>Name</th>\n",
       "      <th>Sex</th>\n",
       "      <th>Age</th>\n",
       "      <th>SibSp</th>\n",
       "      <th>Parch</th>\n",
       "      <th>Ticket</th>\n",
       "      <th>Fare</th>\n",
       "      <th>Cabin</th>\n",
       "      <th>Embarked</th>\n",
       "    </tr>\n",
       "  </thead>\n",
       "  <tbody>\n",
       "    <tr>\n",
       "      <th>0</th>\n",
       "      <td>892</td>\n",
       "      <td>3</td>\n",
       "      <td>Kelly, Mr. James</td>\n",
       "      <td>male</td>\n",
       "      <td>34.5</td>\n",
       "      <td>0</td>\n",
       "      <td>0</td>\n",
       "      <td>330911</td>\n",
       "      <td>7.8292</td>\n",
       "      <td>NaN</td>\n",
       "      <td>Q</td>\n",
       "    </tr>\n",
       "    <tr>\n",
       "      <th>1</th>\n",
       "      <td>893</td>\n",
       "      <td>3</td>\n",
       "      <td>Wilkes, Mrs. James (Ellen Needs)</td>\n",
       "      <td>female</td>\n",
       "      <td>47.0</td>\n",
       "      <td>1</td>\n",
       "      <td>0</td>\n",
       "      <td>363272</td>\n",
       "      <td>7.0000</td>\n",
       "      <td>NaN</td>\n",
       "      <td>S</td>\n",
       "    </tr>\n",
       "    <tr>\n",
       "      <th>2</th>\n",
       "      <td>894</td>\n",
       "      <td>2</td>\n",
       "      <td>Myles, Mr. Thomas Francis</td>\n",
       "      <td>male</td>\n",
       "      <td>62.0</td>\n",
       "      <td>0</td>\n",
       "      <td>0</td>\n",
       "      <td>240276</td>\n",
       "      <td>9.6875</td>\n",
       "      <td>NaN</td>\n",
       "      <td>Q</td>\n",
       "    </tr>\n",
       "    <tr>\n",
       "      <th>3</th>\n",
       "      <td>895</td>\n",
       "      <td>3</td>\n",
       "      <td>Wirz, Mr. Albert</td>\n",
       "      <td>male</td>\n",
       "      <td>27.0</td>\n",
       "      <td>0</td>\n",
       "      <td>0</td>\n",
       "      <td>315154</td>\n",
       "      <td>8.6625</td>\n",
       "      <td>NaN</td>\n",
       "      <td>S</td>\n",
       "    </tr>\n",
       "    <tr>\n",
       "      <th>4</th>\n",
       "      <td>896</td>\n",
       "      <td>3</td>\n",
       "      <td>Hirvonen, Mrs. Alexander (Helga E Lindqvist)</td>\n",
       "      <td>female</td>\n",
       "      <td>22.0</td>\n",
       "      <td>1</td>\n",
       "      <td>1</td>\n",
       "      <td>3101298</td>\n",
       "      <td>12.2875</td>\n",
       "      <td>NaN</td>\n",
       "      <td>S</td>\n",
       "    </tr>\n",
       "    <tr>\n",
       "      <th>...</th>\n",
       "      <td>...</td>\n",
       "      <td>...</td>\n",
       "      <td>...</td>\n",
       "      <td>...</td>\n",
       "      <td>...</td>\n",
       "      <td>...</td>\n",
       "      <td>...</td>\n",
       "      <td>...</td>\n",
       "      <td>...</td>\n",
       "      <td>...</td>\n",
       "      <td>...</td>\n",
       "    </tr>\n",
       "    <tr>\n",
       "      <th>413</th>\n",
       "      <td>1305</td>\n",
       "      <td>3</td>\n",
       "      <td>Spector, Mr. Woolf</td>\n",
       "      <td>male</td>\n",
       "      <td>NaN</td>\n",
       "      <td>0</td>\n",
       "      <td>0</td>\n",
       "      <td>A.5. 3236</td>\n",
       "      <td>8.0500</td>\n",
       "      <td>NaN</td>\n",
       "      <td>S</td>\n",
       "    </tr>\n",
       "    <tr>\n",
       "      <th>414</th>\n",
       "      <td>1306</td>\n",
       "      <td>1</td>\n",
       "      <td>Oliva y Ocana, Dona. Fermina</td>\n",
       "      <td>female</td>\n",
       "      <td>39.0</td>\n",
       "      <td>0</td>\n",
       "      <td>0</td>\n",
       "      <td>PC 17758</td>\n",
       "      <td>108.9000</td>\n",
       "      <td>C105</td>\n",
       "      <td>C</td>\n",
       "    </tr>\n",
       "    <tr>\n",
       "      <th>415</th>\n",
       "      <td>1307</td>\n",
       "      <td>3</td>\n",
       "      <td>Saether, Mr. Simon Sivertsen</td>\n",
       "      <td>male</td>\n",
       "      <td>38.5</td>\n",
       "      <td>0</td>\n",
       "      <td>0</td>\n",
       "      <td>SOTON/O.Q. 3101262</td>\n",
       "      <td>7.2500</td>\n",
       "      <td>NaN</td>\n",
       "      <td>S</td>\n",
       "    </tr>\n",
       "    <tr>\n",
       "      <th>416</th>\n",
       "      <td>1308</td>\n",
       "      <td>3</td>\n",
       "      <td>Ware, Mr. Frederick</td>\n",
       "      <td>male</td>\n",
       "      <td>NaN</td>\n",
       "      <td>0</td>\n",
       "      <td>0</td>\n",
       "      <td>359309</td>\n",
       "      <td>8.0500</td>\n",
       "      <td>NaN</td>\n",
       "      <td>S</td>\n",
       "    </tr>\n",
       "    <tr>\n",
       "      <th>417</th>\n",
       "      <td>1309</td>\n",
       "      <td>3</td>\n",
       "      <td>Peter, Master. Michael J</td>\n",
       "      <td>male</td>\n",
       "      <td>NaN</td>\n",
       "      <td>1</td>\n",
       "      <td>1</td>\n",
       "      <td>2668</td>\n",
       "      <td>22.3583</td>\n",
       "      <td>NaN</td>\n",
       "      <td>C</td>\n",
       "    </tr>\n",
       "  </tbody>\n",
       "</table>\n",
       "<p>418 rows × 11 columns</p>\n",
       "</div>"
      ],
      "text/plain": [
       "     PassengerId  Pclass                                          Name  \\\n",
       "0            892       3                              Kelly, Mr. James   \n",
       "1            893       3              Wilkes, Mrs. James (Ellen Needs)   \n",
       "2            894       2                     Myles, Mr. Thomas Francis   \n",
       "3            895       3                              Wirz, Mr. Albert   \n",
       "4            896       3  Hirvonen, Mrs. Alexander (Helga E Lindqvist)   \n",
       "..           ...     ...                                           ...   \n",
       "413         1305       3                            Spector, Mr. Woolf   \n",
       "414         1306       1                  Oliva y Ocana, Dona. Fermina   \n",
       "415         1307       3                  Saether, Mr. Simon Sivertsen   \n",
       "416         1308       3                           Ware, Mr. Frederick   \n",
       "417         1309       3                      Peter, Master. Michael J   \n",
       "\n",
       "        Sex   Age  SibSp  Parch              Ticket      Fare Cabin Embarked  \n",
       "0      male  34.5      0      0              330911    7.8292   NaN        Q  \n",
       "1    female  47.0      1      0              363272    7.0000   NaN        S  \n",
       "2      male  62.0      0      0              240276    9.6875   NaN        Q  \n",
       "3      male  27.0      0      0              315154    8.6625   NaN        S  \n",
       "4    female  22.0      1      1             3101298   12.2875   NaN        S  \n",
       "..      ...   ...    ...    ...                 ...       ...   ...      ...  \n",
       "413    male   NaN      0      0           A.5. 3236    8.0500   NaN        S  \n",
       "414  female  39.0      0      0            PC 17758  108.9000  C105        C  \n",
       "415    male  38.5      0      0  SOTON/O.Q. 3101262    7.2500   NaN        S  \n",
       "416    male   NaN      0      0              359309    8.0500   NaN        S  \n",
       "417    male   NaN      1      1                2668   22.3583   NaN        C  \n",
       "\n",
       "[418 rows x 11 columns]"
      ]
     },
     "execution_count": 1,
     "metadata": {},
     "output_type": "execute_result"
    }
   ],
   "source": [
    "import pandas as pd\n",
    "pd.read_csv(\"test.csv\")"
   ]
  },
  {
   "cell_type": "code",
   "execution_count": 1,
   "id": "3cc1f652-5536-4eef-9658-899a2bb6315f",
   "metadata": {},
   "outputs": [],
   "source": [
    "# starting a spark session\n",
    "from pyspark.sql import SparkSession"
   ]
  },
  {
   "cell_type": "code",
   "execution_count": 2,
   "id": "c7404f6f-1798-4ca7-ac42-b50ad0b5e975",
   "metadata": {},
   "outputs": [],
   "source": [
    "spark = SparkSession.builder.master(\"local\").appName('Practice').getOrCreate()"
   ]
  },
  {
   "cell_type": "code",
   "execution_count": 3,
   "id": "c5135517-42ce-4e43-8e85-78b4be322f96",
   "metadata": {},
   "outputs": [
    {
     "data": {
      "text/html": [
       "\n",
       "            <div>\n",
       "                <p><b>SparkSession - in-memory</b></p>\n",
       "                \n",
       "        <div>\n",
       "            <p><b>SparkContext</b></p>\n",
       "\n",
       "            <p><a href=\"http://LAPTOP-5AQEL6GS:4040\">Spark UI</a></p>\n",
       "\n",
       "            <dl>\n",
       "              <dt>Version</dt>\n",
       "                <dd><code>v3.5.0</code></dd>\n",
       "              <dt>Master</dt>\n",
       "                <dd><code>local</code></dd>\n",
       "              <dt>AppName</dt>\n",
       "                <dd><code>Practice</code></dd>\n",
       "            </dl>\n",
       "        </div>\n",
       "        \n",
       "            </div>\n",
       "        "
      ],
      "text/plain": [
       "<pyspark.sql.session.SparkSession at 0x1ad2203b6b0>"
      ]
     },
     "execution_count": 3,
     "metadata": {},
     "output_type": "execute_result"
    }
   ],
   "source": [
    "spark"
   ]
  },
  {
   "cell_type": "code",
   "execution_count": 4,
   "id": "3fa4a01d-7d1e-4a89-ba7f-9996938285c7",
   "metadata": {},
   "outputs": [],
   "source": [
    "df_pyspark = spark.read.csv('test.csv')"
   ]
  },
  {
   "cell_type": "code",
   "execution_count": 7,
   "id": "96699ce3-0c7a-4234-a7a4-f5940d2ddee7",
   "metadata": {},
   "outputs": [
    {
     "name": "stdout",
     "output_type": "stream",
     "text": [
      "+-----------+------+--------------------+------+----+-----+-----+----------------+-------+-----+--------+\n",
      "|        _c0|   _c1|                 _c2|   _c3| _c4|  _c5|  _c6|             _c7|    _c8|  _c9|    _c10|\n",
      "+-----------+------+--------------------+------+----+-----+-----+----------------+-------+-----+--------+\n",
      "|PassengerId|Pclass|                Name|   Sex| Age|SibSp|Parch|          Ticket|   Fare|Cabin|Embarked|\n",
      "|        892|     3|    Kelly, Mr. James|  male|34.5|    0|    0|          330911| 7.8292| NULL|       Q|\n",
      "|        893|     3|Wilkes, Mrs. Jame...|female|  47|    1|    0|          363272|      7| NULL|       S|\n",
      "|        894|     2|Myles, Mr. Thomas...|  male|  62|    0|    0|          240276| 9.6875| NULL|       Q|\n",
      "|        895|     3|    Wirz, Mr. Albert|  male|  27|    0|    0|          315154| 8.6625| NULL|       S|\n",
      "|        896|     3|Hirvonen, Mrs. Al...|female|  22|    1|    1|         3101298|12.2875| NULL|       S|\n",
      "|        897|     3|Svensson, Mr. Joh...|  male|  14|    0|    0|            7538|  9.225| NULL|       S|\n",
      "|        898|     3|Connolly, Miss. Kate|female|  30|    0|    0|          330972| 7.6292| NULL|       Q|\n",
      "|        899|     2|Caldwell, Mr. Alb...|  male|  26|    1|    1|          248738|     29| NULL|       S|\n",
      "|        900|     3|Abrahim, Mrs. Jos...|female|  18|    0|    0|            2657| 7.2292| NULL|       C|\n",
      "|        901|     3|Davies, Mr. John ...|  male|  21|    2|    0|       A/4 48871|  24.15| NULL|       S|\n",
      "|        902|     3|    Ilieff, Mr. Ylio|  male|NULL|    0|    0|          349220| 7.8958| NULL|       S|\n",
      "|        903|     1|Jones, Mr. Charle...|  male|  46|    0|    0|             694|     26| NULL|       S|\n",
      "|        904|     1|Snyder, Mrs. John...|female|  23|    1|    0|           21228|82.2667|  B45|       S|\n",
      "|        905|     2|Howard, Mr. Benjamin|  male|  63|    1|    0|           24065|     26| NULL|       S|\n",
      "|        906|     1|Chaffee, Mrs. Her...|female|  47|    1|    0|     W.E.P. 5734| 61.175|  E31|       S|\n",
      "|        907|     2|del Carlo, Mrs. S...|female|  24|    1|    0|   SC/PARIS 2167|27.7208| NULL|       C|\n",
      "|        908|     2|   Keane, Mr. Daniel|  male|  35|    0|    0|          233734|  12.35| NULL|       Q|\n",
      "|        909|     3|   Assaf, Mr. Gerios|  male|  21|    0|    0|            2692|  7.225| NULL|       C|\n",
      "|        910|     3|Ilmakangas, Miss....|female|  27|    1|    0|STON/O2. 3101270|  7.925| NULL|       S|\n",
      "+-----------+------+--------------------+------+----+-----+-----+----------------+-------+-----+--------+\n",
      "only showing top 20 rows\n",
      "\n"
     ]
    }
   ],
   "source": [
    "df_pyspark.show()"
   ]
  },
  {
   "cell_type": "code",
   "execution_count": 5,
   "id": "26e53605-b898-45fe-be53-c0213dc393a2",
   "metadata": {},
   "outputs": [],
   "source": [
    "df_pyspark = spark.read.option('header','true').csv('test.csv', inferSchema=True)"
   ]
  },
  {
   "cell_type": "code",
   "execution_count": 13,
   "id": "5280e159-f04a-416d-b4ef-9e9c937fd009",
   "metadata": {},
   "outputs": [
    {
     "name": "stdout",
     "output_type": "stream",
     "text": [
      "+-----------+------+--------------------+------+----+-----+-----+----------------+-------+-----+--------+\n",
      "|PassengerId|Pclass|                Name|   Sex| Age|SibSp|Parch|          Ticket|   Fare|Cabin|Embarked|\n",
      "+-----------+------+--------------------+------+----+-----+-----+----------------+-------+-----+--------+\n",
      "|        892|     3|    Kelly, Mr. James|  male|34.5|    0|    0|          330911| 7.8292| NULL|       Q|\n",
      "|        893|     3|Wilkes, Mrs. Jame...|female|47.0|    1|    0|          363272|    7.0| NULL|       S|\n",
      "|        894|     2|Myles, Mr. Thomas...|  male|62.0|    0|    0|          240276| 9.6875| NULL|       Q|\n",
      "|        895|     3|    Wirz, Mr. Albert|  male|27.0|    0|    0|          315154| 8.6625| NULL|       S|\n",
      "|        896|     3|Hirvonen, Mrs. Al...|female|22.0|    1|    1|         3101298|12.2875| NULL|       S|\n",
      "|        897|     3|Svensson, Mr. Joh...|  male|14.0|    0|    0|            7538|  9.225| NULL|       S|\n",
      "|        898|     3|Connolly, Miss. Kate|female|30.0|    0|    0|          330972| 7.6292| NULL|       Q|\n",
      "|        899|     2|Caldwell, Mr. Alb...|  male|26.0|    1|    1|          248738|   29.0| NULL|       S|\n",
      "|        900|     3|Abrahim, Mrs. Jos...|female|18.0|    0|    0|            2657| 7.2292| NULL|       C|\n",
      "|        901|     3|Davies, Mr. John ...|  male|21.0|    2|    0|       A/4 48871|  24.15| NULL|       S|\n",
      "|        902|     3|    Ilieff, Mr. Ylio|  male|NULL|    0|    0|          349220| 7.8958| NULL|       S|\n",
      "|        903|     1|Jones, Mr. Charle...|  male|46.0|    0|    0|             694|   26.0| NULL|       S|\n",
      "|        904|     1|Snyder, Mrs. John...|female|23.0|    1|    0|           21228|82.2667|  B45|       S|\n",
      "|        905|     2|Howard, Mr. Benjamin|  male|63.0|    1|    0|           24065|   26.0| NULL|       S|\n",
      "|        906|     1|Chaffee, Mrs. Her...|female|47.0|    1|    0|     W.E.P. 5734| 61.175|  E31|       S|\n",
      "|        907|     2|del Carlo, Mrs. S...|female|24.0|    1|    0|   SC/PARIS 2167|27.7208| NULL|       C|\n",
      "|        908|     2|   Keane, Mr. Daniel|  male|35.0|    0|    0|          233734|  12.35| NULL|       Q|\n",
      "|        909|     3|   Assaf, Mr. Gerios|  male|21.0|    0|    0|            2692|  7.225| NULL|       C|\n",
      "|        910|     3|Ilmakangas, Miss....|female|27.0|    1|    0|STON/O2. 3101270|  7.925| NULL|       S|\n",
      "|        911|     3|\"Assaf Khalil, Mr...|female|45.0|    0|    0|            2696|  7.225| NULL|       C|\n",
      "+-----------+------+--------------------+------+----+-----+-----+----------------+-------+-----+--------+\n",
      "only showing top 20 rows\n",
      "\n"
     ]
    }
   ],
   "source": [
    "df_pyspark.show()"
   ]
  },
  {
   "cell_type": "code",
   "execution_count": 15,
   "id": "3e45bbc5-459b-4083-b8d7-bbbac0ca3e08",
   "metadata": {},
   "outputs": [
    {
     "data": {
      "text/plain": [
       "pyspark.sql.dataframe.DataFrame"
      ]
     },
     "execution_count": 15,
     "metadata": {},
     "output_type": "execute_result"
    }
   ],
   "source": [
    "type(df_pyspark)"
   ]
  },
  {
   "cell_type": "code",
   "execution_count": 12,
   "id": "cb876366-f282-4ba6-ac67-8fecc34ceeb0",
   "metadata": {},
   "outputs": [
    {
     "data": {
      "text/plain": [
       "[Row(PassengerId='892', Pclass='3', Name='Kelly, Mr. James', Sex='male', Age='34.5', SibSp='0', Parch='0', Ticket='330911', Fare='7.8292', Cabin=None, Embarked='Q'),\n",
       " Row(PassengerId='893', Pclass='3', Name='Wilkes, Mrs. James (Ellen Needs)', Sex='female', Age='47', SibSp='1', Parch='0', Ticket='363272', Fare='7', Cabin=None, Embarked='S'),\n",
       " Row(PassengerId='894', Pclass='2', Name='Myles, Mr. Thomas Francis', Sex='male', Age='62', SibSp='0', Parch='0', Ticket='240276', Fare='9.6875', Cabin=None, Embarked='Q')]"
      ]
     },
     "execution_count": 12,
     "metadata": {},
     "output_type": "execute_result"
    }
   ],
   "source": [
    "df_pyspark.head(3)"
   ]
  },
  {
   "cell_type": "code",
   "execution_count": 16,
   "id": "f875f383-b999-49f8-8cdf-7a2ae08a7fb0",
   "metadata": {},
   "outputs": [
    {
     "name": "stdout",
     "output_type": "stream",
     "text": [
      "root\n",
      " |-- PassengerId: integer (nullable = true)\n",
      " |-- Pclass: integer (nullable = true)\n",
      " |-- Name: string (nullable = true)\n",
      " |-- Sex: string (nullable = true)\n",
      " |-- Age: double (nullable = true)\n",
      " |-- SibSp: integer (nullable = true)\n",
      " |-- Parch: integer (nullable = true)\n",
      " |-- Ticket: string (nullable = true)\n",
      " |-- Fare: double (nullable = true)\n",
      " |-- Cabin: string (nullable = true)\n",
      " |-- Embarked: string (nullable = true)\n",
      "\n"
     ]
    }
   ],
   "source": [
    "df_pyspark.printSchema()"
   ]
  },
  {
   "cell_type": "code",
   "execution_count": 17,
   "id": "b1e7830a-c8e4-44cf-9188-79dacc2fbf0c",
   "metadata": {},
   "outputs": [
    {
     "data": {
      "text/plain": [
       "['PassengerId',\n",
       " 'Pclass',\n",
       " 'Name',\n",
       " 'Sex',\n",
       " 'Age',\n",
       " 'SibSp',\n",
       " 'Parch',\n",
       " 'Ticket',\n",
       " 'Fare',\n",
       " 'Cabin',\n",
       " 'Embarked']"
      ]
     },
     "execution_count": 17,
     "metadata": {},
     "output_type": "execute_result"
    }
   ],
   "source": [
    "df_pyspark.columns"
   ]
  },
  {
   "cell_type": "code",
   "execution_count": 18,
   "id": "4dff0fe1-0d4a-4d02-80c5-63650d8f5ab0",
   "metadata": {},
   "outputs": [
    {
     "data": {
      "text/plain": [
       "DataFrame[Pclass: int]"
      ]
     },
     "execution_count": 18,
     "metadata": {},
     "output_type": "execute_result"
    }
   ],
   "source": [
    "df_pyspark.select('Pclass')"
   ]
  },
  {
   "cell_type": "code",
   "execution_count": 19,
   "id": "a0a90df7-fed7-451b-851e-ffcf65e61a1e",
   "metadata": {},
   "outputs": [
    {
     "name": "stdout",
     "output_type": "stream",
     "text": [
      "+------+\n",
      "|Pclass|\n",
      "+------+\n",
      "|     3|\n",
      "|     3|\n",
      "|     2|\n",
      "|     3|\n",
      "|     3|\n",
      "|     3|\n",
      "|     3|\n",
      "|     2|\n",
      "|     3|\n",
      "|     3|\n",
      "|     3|\n",
      "|     1|\n",
      "|     1|\n",
      "|     2|\n",
      "|     1|\n",
      "|     2|\n",
      "|     2|\n",
      "|     3|\n",
      "|     3|\n",
      "|     3|\n",
      "+------+\n",
      "only showing top 20 rows\n",
      "\n"
     ]
    }
   ],
   "source": [
    "df_pyspark.select('Pclass').show()"
   ]
  },
  {
   "cell_type": "code",
   "execution_count": 21,
   "id": "28a0545f-19ac-45ec-8acb-859b6f3b287b",
   "metadata": {},
   "outputs": [
    {
     "name": "stdout",
     "output_type": "stream",
     "text": [
      "+------+-----+\n",
      "|Pclass|SibSp|\n",
      "+------+-----+\n",
      "|     3|    0|\n",
      "|     3|    1|\n",
      "|     2|    0|\n",
      "|     3|    0|\n",
      "|     3|    1|\n",
      "|     3|    0|\n",
      "|     3|    0|\n",
      "|     2|    1|\n",
      "|     3|    0|\n",
      "|     3|    2|\n",
      "|     3|    0|\n",
      "|     1|    0|\n",
      "|     1|    1|\n",
      "|     2|    1|\n",
      "|     1|    1|\n",
      "|     2|    1|\n",
      "|     2|    0|\n",
      "|     3|    0|\n",
      "|     3|    1|\n",
      "|     3|    0|\n",
      "+------+-----+\n",
      "only showing top 20 rows\n",
      "\n"
     ]
    }
   ],
   "source": [
    "df_pyspark.select(['Pclass', 'SibSp']).show()"
   ]
  },
  {
   "cell_type": "code",
   "execution_count": 22,
   "id": "e5514d9f-0e20-4587-9e0d-c72970a8b007",
   "metadata": {},
   "outputs": [
    {
     "data": {
      "text/plain": [
       "[('PassengerId', 'int'),\n",
       " ('Pclass', 'int'),\n",
       " ('Name', 'string'),\n",
       " ('Sex', 'string'),\n",
       " ('Age', 'double'),\n",
       " ('SibSp', 'int'),\n",
       " ('Parch', 'int'),\n",
       " ('Ticket', 'string'),\n",
       " ('Fare', 'double'),\n",
       " ('Cabin', 'string'),\n",
       " ('Embarked', 'string')]"
      ]
     },
     "execution_count": 22,
     "metadata": {},
     "output_type": "execute_result"
    }
   ],
   "source": [
    "df_pyspark.dtypes"
   ]
  },
  {
   "cell_type": "code",
   "execution_count": 23,
   "id": "3fb8c0d4-912c-4d19-ba63-9c2518f54072",
   "metadata": {},
   "outputs": [
    {
     "data": {
      "text/plain": [
       "DataFrame[summary: string, PassengerId: string, Pclass: string, Name: string, Sex: string, Age: string, SibSp: string, Parch: string, Ticket: string, Fare: string, Cabin: string, Embarked: string]"
      ]
     },
     "execution_count": 23,
     "metadata": {},
     "output_type": "execute_result"
    }
   ],
   "source": [
    "df_pyspark.describe()"
   ]
  },
  {
   "cell_type": "code",
   "execution_count": 24,
   "id": "9b1b3c37-9cf1-46e5-b861-19df874f7541",
   "metadata": {},
   "outputs": [
    {
     "name": "stdout",
     "output_type": "stream",
     "text": [
      "+-------+------------------+------------------+--------------------+------+------------------+------------------+------------------+------------------+------------------+-----+--------+\n",
      "|summary|       PassengerId|            Pclass|                Name|   Sex|               Age|             SibSp|             Parch|            Ticket|              Fare|Cabin|Embarked|\n",
      "+-------+------------------+------------------+--------------------+------+------------------+------------------+------------------+------------------+------------------+-----+--------+\n",
      "|  count|               418|               418|                 418|   418|               332|               418|               418|               418|               417|   91|     418|\n",
      "|   mean|            1100.5|2.2655502392344498|                NULL|  NULL|30.272590361445783|0.4473684210526316|0.3923444976076555|223850.98986486485|  35.6271884892086| NULL|    NULL|\n",
      "| stddev|120.81045760473994|0.8418375519640503|                NULL|  NULL|14.181209235624424|0.8967595611217135|0.9814288785371694| 369523.7764694362|55.907576179973844| NULL|    NULL|\n",
      "|    min|               892|                 1|\"Assaf Khalil, Mr...|female|              0.17|                 0|                 0|            110469|               0.0|  A11|       C|\n",
      "|    max|              1309|                 3|van Billiard, Mas...|  male|              76.0|                 8|                 9|       W.E.P. 5734|          512.3292|   G6|       S|\n",
      "+-------+------------------+------------------+--------------------+------+------------------+------------------+------------------+------------------+------------------+-----+--------+\n",
      "\n"
     ]
    }
   ],
   "source": [
    "df_pyspark.describe().show()"
   ]
  },
  {
   "cell_type": "code",
   "execution_count": 28,
   "id": "f4c4629b-49e1-4df5-9f36-fdafe668179c",
   "metadata": {},
   "outputs": [],
   "source": [
    "# adding columns\n",
    "df_pyspark = df_pyspark.withColumn('Parch 2 years', df_pyspark['Parch']+2)"
   ]
  },
  {
   "cell_type": "code",
   "execution_count": 29,
   "id": "af86572e-e1ea-47ea-9923-bae5bbd9dbb8",
   "metadata": {},
   "outputs": [
    {
     "name": "stdout",
     "output_type": "stream",
     "text": [
      "+-----------+------+--------------------+------+----+-----+-----+----------------+-------+-----+--------+-------------+\n",
      "|PassengerId|Pclass|                Name|   Sex| Age|SibSp|Parch|          Ticket|   Fare|Cabin|Embarked|Parch 2 years|\n",
      "+-----------+------+--------------------+------+----+-----+-----+----------------+-------+-----+--------+-------------+\n",
      "|        892|     3|    Kelly, Mr. James|  male|34.5|    0|    0|          330911| 7.8292| NULL|       Q|            2|\n",
      "|        893|     3|Wilkes, Mrs. Jame...|female|47.0|    1|    0|          363272|    7.0| NULL|       S|            2|\n",
      "|        894|     2|Myles, Mr. Thomas...|  male|62.0|    0|    0|          240276| 9.6875| NULL|       Q|            2|\n",
      "|        895|     3|    Wirz, Mr. Albert|  male|27.0|    0|    0|          315154| 8.6625| NULL|       S|            2|\n",
      "|        896|     3|Hirvonen, Mrs. Al...|female|22.0|    1|    1|         3101298|12.2875| NULL|       S|            3|\n",
      "|        897|     3|Svensson, Mr. Joh...|  male|14.0|    0|    0|            7538|  9.225| NULL|       S|            2|\n",
      "|        898|     3|Connolly, Miss. Kate|female|30.0|    0|    0|          330972| 7.6292| NULL|       Q|            2|\n",
      "|        899|     2|Caldwell, Mr. Alb...|  male|26.0|    1|    1|          248738|   29.0| NULL|       S|            3|\n",
      "|        900|     3|Abrahim, Mrs. Jos...|female|18.0|    0|    0|            2657| 7.2292| NULL|       C|            2|\n",
      "|        901|     3|Davies, Mr. John ...|  male|21.0|    2|    0|       A/4 48871|  24.15| NULL|       S|            2|\n",
      "|        902|     3|    Ilieff, Mr. Ylio|  male|NULL|    0|    0|          349220| 7.8958| NULL|       S|            2|\n",
      "|        903|     1|Jones, Mr. Charle...|  male|46.0|    0|    0|             694|   26.0| NULL|       S|            2|\n",
      "|        904|     1|Snyder, Mrs. John...|female|23.0|    1|    0|           21228|82.2667|  B45|       S|            2|\n",
      "|        905|     2|Howard, Mr. Benjamin|  male|63.0|    1|    0|           24065|   26.0| NULL|       S|            2|\n",
      "|        906|     1|Chaffee, Mrs. Her...|female|47.0|    1|    0|     W.E.P. 5734| 61.175|  E31|       S|            2|\n",
      "|        907|     2|del Carlo, Mrs. S...|female|24.0|    1|    0|   SC/PARIS 2167|27.7208| NULL|       C|            2|\n",
      "|        908|     2|   Keane, Mr. Daniel|  male|35.0|    0|    0|          233734|  12.35| NULL|       Q|            2|\n",
      "|        909|     3|   Assaf, Mr. Gerios|  male|21.0|    0|    0|            2692|  7.225| NULL|       C|            2|\n",
      "|        910|     3|Ilmakangas, Miss....|female|27.0|    1|    0|STON/O2. 3101270|  7.925| NULL|       S|            2|\n",
      "|        911|     3|\"Assaf Khalil, Mr...|female|45.0|    0|    0|            2696|  7.225| NULL|       C|            2|\n",
      "+-----------+------+--------------------+------+----+-----+-----+----------------+-------+-----+--------+-------------+\n",
      "only showing top 20 rows\n",
      "\n"
     ]
    }
   ],
   "source": [
    "df_pyspark.show()"
   ]
  },
  {
   "cell_type": "code",
   "execution_count": 30,
   "id": "28f23c42-0008-430f-9b2a-af3812879071",
   "metadata": {},
   "outputs": [],
   "source": [
    "# dropping the column\n",
    "df_pyspark = df_pyspark.drop(\"Parch 2 years\")"
   ]
  },
  {
   "cell_type": "code",
   "execution_count": 31,
   "id": "0d84bfff-9015-486b-aad0-7f8d27c135ea",
   "metadata": {},
   "outputs": [
    {
     "name": "stdout",
     "output_type": "stream",
     "text": [
      "+-----------+------+--------------------+------+----+-----+-----+----------------+-------+-----+--------+\n",
      "|PassengerId|Pclass|                Name|   Sex| Age|SibSp|Parch|          Ticket|   Fare|Cabin|Embarked|\n",
      "+-----------+------+--------------------+------+----+-----+-----+----------------+-------+-----+--------+\n",
      "|        892|     3|    Kelly, Mr. James|  male|34.5|    0|    0|          330911| 7.8292| NULL|       Q|\n",
      "|        893|     3|Wilkes, Mrs. Jame...|female|47.0|    1|    0|          363272|    7.0| NULL|       S|\n",
      "|        894|     2|Myles, Mr. Thomas...|  male|62.0|    0|    0|          240276| 9.6875| NULL|       Q|\n",
      "|        895|     3|    Wirz, Mr. Albert|  male|27.0|    0|    0|          315154| 8.6625| NULL|       S|\n",
      "|        896|     3|Hirvonen, Mrs. Al...|female|22.0|    1|    1|         3101298|12.2875| NULL|       S|\n",
      "|        897|     3|Svensson, Mr. Joh...|  male|14.0|    0|    0|            7538|  9.225| NULL|       S|\n",
      "|        898|     3|Connolly, Miss. Kate|female|30.0|    0|    0|          330972| 7.6292| NULL|       Q|\n",
      "|        899|     2|Caldwell, Mr. Alb...|  male|26.0|    1|    1|          248738|   29.0| NULL|       S|\n",
      "|        900|     3|Abrahim, Mrs. Jos...|female|18.0|    0|    0|            2657| 7.2292| NULL|       C|\n",
      "|        901|     3|Davies, Mr. John ...|  male|21.0|    2|    0|       A/4 48871|  24.15| NULL|       S|\n",
      "|        902|     3|    Ilieff, Mr. Ylio|  male|NULL|    0|    0|          349220| 7.8958| NULL|       S|\n",
      "|        903|     1|Jones, Mr. Charle...|  male|46.0|    0|    0|             694|   26.0| NULL|       S|\n",
      "|        904|     1|Snyder, Mrs. John...|female|23.0|    1|    0|           21228|82.2667|  B45|       S|\n",
      "|        905|     2|Howard, Mr. Benjamin|  male|63.0|    1|    0|           24065|   26.0| NULL|       S|\n",
      "|        906|     1|Chaffee, Mrs. Her...|female|47.0|    1|    0|     W.E.P. 5734| 61.175|  E31|       S|\n",
      "|        907|     2|del Carlo, Mrs. S...|female|24.0|    1|    0|   SC/PARIS 2167|27.7208| NULL|       C|\n",
      "|        908|     2|   Keane, Mr. Daniel|  male|35.0|    0|    0|          233734|  12.35| NULL|       Q|\n",
      "|        909|     3|   Assaf, Mr. Gerios|  male|21.0|    0|    0|            2692|  7.225| NULL|       C|\n",
      "|        910|     3|Ilmakangas, Miss....|female|27.0|    1|    0|STON/O2. 3101270|  7.925| NULL|       S|\n",
      "|        911|     3|\"Assaf Khalil, Mr...|female|45.0|    0|    0|            2696|  7.225| NULL|       C|\n",
      "+-----------+------+--------------------+------+----+-----+-----+----------------+-------+-----+--------+\n",
      "only showing top 20 rows\n",
      "\n"
     ]
    }
   ],
   "source": [
    "df_pyspark.show()"
   ]
  },
  {
   "cell_type": "code",
   "execution_count": 33,
   "id": "6f454837-403e-4f97-8a30-5b509ce50edc",
   "metadata": {},
   "outputs": [
    {
     "name": "stdout",
     "output_type": "stream",
     "text": [
      "+----+------+--------------------+------+----+-----+-----+----------------+-------+-----+--------+\n",
      "|p_id|Pclass|                Name|   Sex| Age|SibSp|Parch|          Ticket|   Fare|Cabin|Embarked|\n",
      "+----+------+--------------------+------+----+-----+-----+----------------+-------+-----+--------+\n",
      "| 892|     3|    Kelly, Mr. James|  male|34.5|    0|    0|          330911| 7.8292| NULL|       Q|\n",
      "| 893|     3|Wilkes, Mrs. Jame...|female|47.0|    1|    0|          363272|    7.0| NULL|       S|\n",
      "| 894|     2|Myles, Mr. Thomas...|  male|62.0|    0|    0|          240276| 9.6875| NULL|       Q|\n",
      "| 895|     3|    Wirz, Mr. Albert|  male|27.0|    0|    0|          315154| 8.6625| NULL|       S|\n",
      "| 896|     3|Hirvonen, Mrs. Al...|female|22.0|    1|    1|         3101298|12.2875| NULL|       S|\n",
      "| 897|     3|Svensson, Mr. Joh...|  male|14.0|    0|    0|            7538|  9.225| NULL|       S|\n",
      "| 898|     3|Connolly, Miss. Kate|female|30.0|    0|    0|          330972| 7.6292| NULL|       Q|\n",
      "| 899|     2|Caldwell, Mr. Alb...|  male|26.0|    1|    1|          248738|   29.0| NULL|       S|\n",
      "| 900|     3|Abrahim, Mrs. Jos...|female|18.0|    0|    0|            2657| 7.2292| NULL|       C|\n",
      "| 901|     3|Davies, Mr. John ...|  male|21.0|    2|    0|       A/4 48871|  24.15| NULL|       S|\n",
      "| 902|     3|    Ilieff, Mr. Ylio|  male|NULL|    0|    0|          349220| 7.8958| NULL|       S|\n",
      "| 903|     1|Jones, Mr. Charle...|  male|46.0|    0|    0|             694|   26.0| NULL|       S|\n",
      "| 904|     1|Snyder, Mrs. John...|female|23.0|    1|    0|           21228|82.2667|  B45|       S|\n",
      "| 905|     2|Howard, Mr. Benjamin|  male|63.0|    1|    0|           24065|   26.0| NULL|       S|\n",
      "| 906|     1|Chaffee, Mrs. Her...|female|47.0|    1|    0|     W.E.P. 5734| 61.175|  E31|       S|\n",
      "| 907|     2|del Carlo, Mrs. S...|female|24.0|    1|    0|   SC/PARIS 2167|27.7208| NULL|       C|\n",
      "| 908|     2|   Keane, Mr. Daniel|  male|35.0|    0|    0|          233734|  12.35| NULL|       Q|\n",
      "| 909|     3|   Assaf, Mr. Gerios|  male|21.0|    0|    0|            2692|  7.225| NULL|       C|\n",
      "| 910|     3|Ilmakangas, Miss....|female|27.0|    1|    0|STON/O2. 3101270|  7.925| NULL|       S|\n",
      "| 911|     3|\"Assaf Khalil, Mr...|female|45.0|    0|    0|            2696|  7.225| NULL|       C|\n",
      "+----+------+--------------------+------+----+-----+-----+----------------+-------+-----+--------+\n",
      "only showing top 20 rows\n",
      "\n"
     ]
    }
   ],
   "source": [
    "# rename the column\n",
    "df_pyspark.withColumnRenamed('PassengerId', 'p_id').show()"
   ]
  },
  {
   "cell_type": "code",
   "execution_count": 34,
   "id": "c3fb59a5-25e3-47a8-bd64-9ee9150fcb93",
   "metadata": {},
   "outputs": [],
   "source": [
    "# handelling Missing values"
   ]
  },
  {
   "cell_type": "code",
   "execution_count": 4,
   "id": "5f999a7b-f600-4fd4-a1f0-ad3b2891aa6c",
   "metadata": {},
   "outputs": [
    {
     "name": "stdout",
     "output_type": "stream",
     "text": [
      "+-----------+------+--------------------+------+----+-----+-----+-----------+-------+---------------+--------+\n",
      "|        _c0|   _c1|                 _c2|   _c3| _c4|  _c5|  _c6|        _c7|    _c8|            _c9|    _c10|\n",
      "+-----------+------+--------------------+------+----+-----+-----+-----------+-------+---------------+--------+\n",
      "|PassengerId|Pclass|                Name|   Sex| Age|SibSp|Parch|     Ticket|   Fare|          Cabin|Embarked|\n",
      "|        904|     1|Snyder, Mrs. John...|female|  23|    1|    0|      21228|82.2667|            B45|       S|\n",
      "|        906|     1|Chaffee, Mrs. Her...|female|  47|    1|    0|W.E.P. 5734| 61.175|            E31|       S|\n",
      "|        916|     1|Ryerson, Mrs. Art...|female|  48|    1|    3|   PC 17608|262.375|B57 B59 B63 B66|       C|\n",
      "|        918|     1|Ostby, Miss. Hele...|female|  22|    0|    1|     113509|61.9792|            B36|       C|\n",
      "|        920|     1|Brady, Mr. John B...|  male|  41|    0|    0|     113054|   30.5|            A21|       S|\n",
      "|        926|     1|Mock, Mr. Philipp...|  male|  30|    1|    0|      13236|  57.75|            C78|       C|\n",
      "|        936|     1|Kimball, Mrs. Edw...|female|  45|    1|    0|      11753|52.5542|            D19|       S|\n",
      "|        938|     1|Chevre, Mr. Paul ...|  male|  45|    0|    0|   PC 17594|   29.7|             A9|       C|\n",
      "|        940|     1|Bucknell, Mrs. Wi...|female|  60|    0|    0|      11813|76.2917|            D15|       C|\n",
      "|        942|     1|Smith, Mr. Lucien...|  male|  24|    1|    0|      13695|     60|            C31|       S|\n",
      "|        945|     1|Fortune, Miss. Et...|female|  28|    3|    2|      19950|    263|    C23 C25 C27|       S|\n",
      "|        949|     3|Abelseth, Mr. Ola...|  male|  25|    0|    0|     348122|   7.65|          F G63|       S|\n",
      "|        951|     1|Chaudanson, Miss....|female|  36|    0|    0|   PC 17608|262.375|            B61|       C|\n",
      "|        956|     1|Ryerson, Master. ...|  male|  13|    2|    2|   PC 17608|262.375|B57 B59 B63 B66|       C|\n",
      "|        960|     1|Tucker, Mr. Gilbe...|  male|  31|    0|    0|       2543|28.5375|            C53|       C|\n",
      "|        961|     1|Fortune, Mrs. Mar...|female|  60|    1|    4|      19950|    263|    C23 C25 C27|       S|\n",
      "|        965|     1|Ovies y Rodriguez...|  male|28.5|    0|    0|   PC 17562|27.7208|            D43|       C|\n",
      "|        966|     1|Geiger, Miss. Amalie|female|  35|    0|    0|     113503|  211.5|           C130|       C|\n",
      "|        967|     1|  Keeping, Mr. Edwin|  male|32.5|    0|    0|     113503|  211.5|           C132|       C|\n",
      "+-----------+------+--------------------+------+----+-----+-----+-----------+-------+---------------+--------+\n",
      "only showing top 20 rows\n",
      "\n"
     ]
    }
   ],
   "source": [
    "# handelling null values\n",
    "df_pyspark.na.drop().show()"
   ]
  },
  {
   "cell_type": "code",
   "execution_count": 5,
   "id": "3a484911-3a82-4f8f-8e6a-8259d2f43c57",
   "metadata": {},
   "outputs": [
    {
     "name": "stdout",
     "output_type": "stream",
     "text": [
      "+-----------+------+--------------------+------+----+-----+-----+-----------+-------+---------------+--------+\n",
      "|        _c0|   _c1|                 _c2|   _c3| _c4|  _c5|  _c6|        _c7|    _c8|            _c9|    _c10|\n",
      "+-----------+------+--------------------+------+----+-----+-----+-----------+-------+---------------+--------+\n",
      "|PassengerId|Pclass|                Name|   Sex| Age|SibSp|Parch|     Ticket|   Fare|          Cabin|Embarked|\n",
      "|        904|     1|Snyder, Mrs. John...|female|  23|    1|    0|      21228|82.2667|            B45|       S|\n",
      "|        906|     1|Chaffee, Mrs. Her...|female|  47|    1|    0|W.E.P. 5734| 61.175|            E31|       S|\n",
      "|        916|     1|Ryerson, Mrs. Art...|female|  48|    1|    3|   PC 17608|262.375|B57 B59 B63 B66|       C|\n",
      "|        918|     1|Ostby, Miss. Hele...|female|  22|    0|    1|     113509|61.9792|            B36|       C|\n",
      "|        920|     1|Brady, Mr. John B...|  male|  41|    0|    0|     113054|   30.5|            A21|       S|\n",
      "|        926|     1|Mock, Mr. Philipp...|  male|  30|    1|    0|      13236|  57.75|            C78|       C|\n",
      "|        936|     1|Kimball, Mrs. Edw...|female|  45|    1|    0|      11753|52.5542|            D19|       S|\n",
      "|        938|     1|Chevre, Mr. Paul ...|  male|  45|    0|    0|   PC 17594|   29.7|             A9|       C|\n",
      "|        940|     1|Bucknell, Mrs. Wi...|female|  60|    0|    0|      11813|76.2917|            D15|       C|\n",
      "|        942|     1|Smith, Mr. Lucien...|  male|  24|    1|    0|      13695|     60|            C31|       S|\n",
      "|        945|     1|Fortune, Miss. Et...|female|  28|    3|    2|      19950|    263|    C23 C25 C27|       S|\n",
      "|        949|     3|Abelseth, Mr. Ola...|  male|  25|    0|    0|     348122|   7.65|          F G63|       S|\n",
      "|        951|     1|Chaudanson, Miss....|female|  36|    0|    0|   PC 17608|262.375|            B61|       C|\n",
      "|        956|     1|Ryerson, Master. ...|  male|  13|    2|    2|   PC 17608|262.375|B57 B59 B63 B66|       C|\n",
      "|        960|     1|Tucker, Mr. Gilbe...|  male|  31|    0|    0|       2543|28.5375|            C53|       C|\n",
      "|        961|     1|Fortune, Mrs. Mar...|female|  60|    1|    4|      19950|    263|    C23 C25 C27|       S|\n",
      "|        965|     1|Ovies y Rodriguez...|  male|28.5|    0|    0|   PC 17562|27.7208|            D43|       C|\n",
      "|        966|     1|Geiger, Miss. Amalie|female|  35|    0|    0|     113503|  211.5|           C130|       C|\n",
      "|        967|     1|  Keeping, Mr. Edwin|  male|32.5|    0|    0|     113503|  211.5|           C132|       C|\n",
      "+-----------+------+--------------------+------+----+-----+-----+-----------+-------+---------------+--------+\n",
      "only showing top 20 rows\n",
      "\n"
     ]
    }
   ],
   "source": [
    "df_pyspark.na.drop(how = \"any\").show()"
   ]
  },
  {
   "cell_type": "code",
   "execution_count": 6,
   "id": "9682418e-950d-4716-a790-50c85387916a",
   "metadata": {},
   "outputs": [
    {
     "name": "stdout",
     "output_type": "stream",
     "text": [
      "+-----------+------+--------------------+------+----+-----+-----+----------------+-------+-----+--------+\n",
      "|        _c0|   _c1|                 _c2|   _c3| _c4|  _c5|  _c6|             _c7|    _c8|  _c9|    _c10|\n",
      "+-----------+------+--------------------+------+----+-----+-----+----------------+-------+-----+--------+\n",
      "|PassengerId|Pclass|                Name|   Sex| Age|SibSp|Parch|          Ticket|   Fare|Cabin|Embarked|\n",
      "|        892|     3|    Kelly, Mr. James|  male|34.5|    0|    0|          330911| 7.8292| NULL|       Q|\n",
      "|        893|     3|Wilkes, Mrs. Jame...|female|  47|    1|    0|          363272|      7| NULL|       S|\n",
      "|        894|     2|Myles, Mr. Thomas...|  male|  62|    0|    0|          240276| 9.6875| NULL|       Q|\n",
      "|        895|     3|    Wirz, Mr. Albert|  male|  27|    0|    0|          315154| 8.6625| NULL|       S|\n",
      "|        896|     3|Hirvonen, Mrs. Al...|female|  22|    1|    1|         3101298|12.2875| NULL|       S|\n",
      "|        897|     3|Svensson, Mr. Joh...|  male|  14|    0|    0|            7538|  9.225| NULL|       S|\n",
      "|        898|     3|Connolly, Miss. Kate|female|  30|    0|    0|          330972| 7.6292| NULL|       Q|\n",
      "|        899|     2|Caldwell, Mr. Alb...|  male|  26|    1|    1|          248738|     29| NULL|       S|\n",
      "|        900|     3|Abrahim, Mrs. Jos...|female|  18|    0|    0|            2657| 7.2292| NULL|       C|\n",
      "|        901|     3|Davies, Mr. John ...|  male|  21|    2|    0|       A/4 48871|  24.15| NULL|       S|\n",
      "|        902|     3|    Ilieff, Mr. Ylio|  male|NULL|    0|    0|          349220| 7.8958| NULL|       S|\n",
      "|        903|     1|Jones, Mr. Charle...|  male|  46|    0|    0|             694|     26| NULL|       S|\n",
      "|        904|     1|Snyder, Mrs. John...|female|  23|    1|    0|           21228|82.2667|  B45|       S|\n",
      "|        905|     2|Howard, Mr. Benjamin|  male|  63|    1|    0|           24065|     26| NULL|       S|\n",
      "|        906|     1|Chaffee, Mrs. Her...|female|  47|    1|    0|     W.E.P. 5734| 61.175|  E31|       S|\n",
      "|        907|     2|del Carlo, Mrs. S...|female|  24|    1|    0|   SC/PARIS 2167|27.7208| NULL|       C|\n",
      "|        908|     2|   Keane, Mr. Daniel|  male|  35|    0|    0|          233734|  12.35| NULL|       Q|\n",
      "|        909|     3|   Assaf, Mr. Gerios|  male|  21|    0|    0|            2692|  7.225| NULL|       C|\n",
      "|        910|     3|Ilmakangas, Miss....|female|  27|    1|    0|STON/O2. 3101270|  7.925| NULL|       S|\n",
      "+-----------+------+--------------------+------+----+-----+-----+----------------+-------+-----+--------+\n",
      "only showing top 20 rows\n",
      "\n"
     ]
    }
   ],
   "source": [
    "# threshold\n",
    "df_pyspark.na.drop(how = \"any\", thresh = 2).show()"
   ]
  },
  {
   "cell_type": "code",
   "execution_count": 7,
   "id": "5530c4e6-8817-4738-b6b6-aef7c361fa17",
   "metadata": {},
   "outputs": [
    {
     "ename": "AnalysisException",
     "evalue": "[UNRESOLVED_COLUMN.WITH_SUGGESTION] A column or function parameter with name `SibSp` cannot be resolved. Did you mean one of the following? [`_c0`, `_c1`, `_c2`, `_c3`, `_c4`, `_c5`, `_c6`, `_c7`, `_c8`, `_c9`, `_c10`].",
     "output_type": "error",
     "traceback": [
      "\u001b[1;31m---------------------------------------------------------------------------\u001b[0m",
      "\u001b[1;31mAnalysisException\u001b[0m                         Traceback (most recent call last)",
      "Cell \u001b[1;32mIn[7], line 2\u001b[0m\n\u001b[0;32m      1\u001b[0m \u001b[38;5;66;03m# subset\u001b[39;00m\n\u001b[1;32m----> 2\u001b[0m \u001b[43mdf_pyspark\u001b[49m\u001b[38;5;241;43m.\u001b[39;49m\u001b[43mna\u001b[49m\u001b[38;5;241;43m.\u001b[39;49m\u001b[43mdrop\u001b[49m\u001b[43m(\u001b[49m\u001b[43mhow\u001b[49m\u001b[43m \u001b[49m\u001b[38;5;241;43m=\u001b[39;49m\u001b[43m \u001b[49m\u001b[38;5;124;43m\"\u001b[39;49m\u001b[38;5;124;43many\u001b[39;49m\u001b[38;5;124;43m\"\u001b[39;49m\u001b[43m,\u001b[49m\u001b[43m \u001b[49m\u001b[43msubset\u001b[49m\u001b[38;5;241;43m=\u001b[39;49m\u001b[43m[\u001b[49m\u001b[38;5;124;43m'\u001b[39;49m\u001b[38;5;124;43mSibSp\u001b[39;49m\u001b[38;5;124;43m'\u001b[39;49m\u001b[43m]\u001b[49m\u001b[43m)\u001b[49m\u001b[38;5;241m.\u001b[39mshow()\n",
      "File \u001b[1;32mC:\\Python312\\Lib\\site-packages\\pyspark\\sql\\dataframe.py:5820\u001b[0m, in \u001b[0;36mDataFrameNaFunctions.drop\u001b[1;34m(self, how, thresh, subset)\u001b[0m\n\u001b[0;32m   5814\u001b[0m \u001b[38;5;28;01mdef\u001b[39;00m \u001b[38;5;21mdrop\u001b[39m(\n\u001b[0;32m   5815\u001b[0m     \u001b[38;5;28mself\u001b[39m,\n\u001b[0;32m   5816\u001b[0m     how: \u001b[38;5;28mstr\u001b[39m \u001b[38;5;241m=\u001b[39m \u001b[38;5;124m\"\u001b[39m\u001b[38;5;124many\u001b[39m\u001b[38;5;124m\"\u001b[39m,\n\u001b[0;32m   5817\u001b[0m     thresh: Optional[\u001b[38;5;28mint\u001b[39m] \u001b[38;5;241m=\u001b[39m \u001b[38;5;28;01mNone\u001b[39;00m,\n\u001b[0;32m   5818\u001b[0m     subset: Optional[Union[\u001b[38;5;28mstr\u001b[39m, Tuple[\u001b[38;5;28mstr\u001b[39m, \u001b[38;5;241m.\u001b[39m\u001b[38;5;241m.\u001b[39m\u001b[38;5;241m.\u001b[39m], List[\u001b[38;5;28mstr\u001b[39m]]] \u001b[38;5;241m=\u001b[39m \u001b[38;5;28;01mNone\u001b[39;00m,\n\u001b[0;32m   5819\u001b[0m ) \u001b[38;5;241m-\u001b[39m\u001b[38;5;241m>\u001b[39m DataFrame:\n\u001b[1;32m-> 5820\u001b[0m     \u001b[38;5;28;01mreturn\u001b[39;00m \u001b[38;5;28;43mself\u001b[39;49m\u001b[38;5;241;43m.\u001b[39;49m\u001b[43mdf\u001b[49m\u001b[38;5;241;43m.\u001b[39;49m\u001b[43mdropna\u001b[49m\u001b[43m(\u001b[49m\u001b[43mhow\u001b[49m\u001b[38;5;241;43m=\u001b[39;49m\u001b[43mhow\u001b[49m\u001b[43m,\u001b[49m\u001b[43m \u001b[49m\u001b[43mthresh\u001b[49m\u001b[38;5;241;43m=\u001b[39;49m\u001b[43mthresh\u001b[49m\u001b[43m,\u001b[49m\u001b[43m \u001b[49m\u001b[43msubset\u001b[49m\u001b[38;5;241;43m=\u001b[39;49m\u001b[43msubset\u001b[49m\u001b[43m)\u001b[49m\n",
      "File \u001b[1;32mC:\\Python312\\Lib\\site-packages\\pyspark\\sql\\dataframe.py:4345\u001b[0m, in \u001b[0;36mDataFrame.dropna\u001b[1;34m(self, how, thresh, subset)\u001b[0m\n\u001b[0;32m   4342\u001b[0m \u001b[38;5;28;01mif\u001b[39;00m thresh \u001b[38;5;129;01mis\u001b[39;00m \u001b[38;5;28;01mNone\u001b[39;00m:\n\u001b[0;32m   4343\u001b[0m     thresh \u001b[38;5;241m=\u001b[39m \u001b[38;5;28mlen\u001b[39m(subset) \u001b[38;5;28;01mif\u001b[39;00m how \u001b[38;5;241m==\u001b[39m \u001b[38;5;124m\"\u001b[39m\u001b[38;5;124many\u001b[39m\u001b[38;5;124m\"\u001b[39m \u001b[38;5;28;01melse\u001b[39;00m \u001b[38;5;241m1\u001b[39m\n\u001b[1;32m-> 4345\u001b[0m \u001b[38;5;28;01mreturn\u001b[39;00m DataFrame(\u001b[38;5;28;43mself\u001b[39;49m\u001b[38;5;241;43m.\u001b[39;49m\u001b[43m_jdf\u001b[49m\u001b[38;5;241;43m.\u001b[39;49m\u001b[43mna\u001b[49m\u001b[43m(\u001b[49m\u001b[43m)\u001b[49m\u001b[38;5;241;43m.\u001b[39;49m\u001b[43mdrop\u001b[49m\u001b[43m(\u001b[49m\u001b[43mthresh\u001b[49m\u001b[43m,\u001b[49m\u001b[43m \u001b[49m\u001b[38;5;28;43mself\u001b[39;49m\u001b[38;5;241;43m.\u001b[39;49m\u001b[43m_jseq\u001b[49m\u001b[43m(\u001b[49m\u001b[43msubset\u001b[49m\u001b[43m)\u001b[49m\u001b[43m)\u001b[49m, \u001b[38;5;28mself\u001b[39m\u001b[38;5;241m.\u001b[39msparkSession)\n",
      "File \u001b[1;32mC:\\Python312\\Lib\\site-packages\\py4j\\java_gateway.py:1322\u001b[0m, in \u001b[0;36mJavaMember.__call__\u001b[1;34m(self, *args)\u001b[0m\n\u001b[0;32m   1316\u001b[0m command \u001b[38;5;241m=\u001b[39m proto\u001b[38;5;241m.\u001b[39mCALL_COMMAND_NAME \u001b[38;5;241m+\u001b[39m\\\n\u001b[0;32m   1317\u001b[0m     \u001b[38;5;28mself\u001b[39m\u001b[38;5;241m.\u001b[39mcommand_header \u001b[38;5;241m+\u001b[39m\\\n\u001b[0;32m   1318\u001b[0m     args_command \u001b[38;5;241m+\u001b[39m\\\n\u001b[0;32m   1319\u001b[0m     proto\u001b[38;5;241m.\u001b[39mEND_COMMAND_PART\n\u001b[0;32m   1321\u001b[0m answer \u001b[38;5;241m=\u001b[39m \u001b[38;5;28mself\u001b[39m\u001b[38;5;241m.\u001b[39mgateway_client\u001b[38;5;241m.\u001b[39msend_command(command)\n\u001b[1;32m-> 1322\u001b[0m return_value \u001b[38;5;241m=\u001b[39m \u001b[43mget_return_value\u001b[49m\u001b[43m(\u001b[49m\n\u001b[0;32m   1323\u001b[0m \u001b[43m    \u001b[49m\u001b[43manswer\u001b[49m\u001b[43m,\u001b[49m\u001b[43m \u001b[49m\u001b[38;5;28;43mself\u001b[39;49m\u001b[38;5;241;43m.\u001b[39;49m\u001b[43mgateway_client\u001b[49m\u001b[43m,\u001b[49m\u001b[43m \u001b[49m\u001b[38;5;28;43mself\u001b[39;49m\u001b[38;5;241;43m.\u001b[39;49m\u001b[43mtarget_id\u001b[49m\u001b[43m,\u001b[49m\u001b[43m \u001b[49m\u001b[38;5;28;43mself\u001b[39;49m\u001b[38;5;241;43m.\u001b[39;49m\u001b[43mname\u001b[49m\u001b[43m)\u001b[49m\n\u001b[0;32m   1325\u001b[0m \u001b[38;5;28;01mfor\u001b[39;00m temp_arg \u001b[38;5;129;01min\u001b[39;00m temp_args:\n\u001b[0;32m   1326\u001b[0m     \u001b[38;5;28;01mif\u001b[39;00m \u001b[38;5;28mhasattr\u001b[39m(temp_arg, \u001b[38;5;124m\"\u001b[39m\u001b[38;5;124m_detach\u001b[39m\u001b[38;5;124m\"\u001b[39m):\n",
      "File \u001b[1;32mC:\\Python312\\Lib\\site-packages\\pyspark\\errors\\exceptions\\captured.py:185\u001b[0m, in \u001b[0;36mcapture_sql_exception.<locals>.deco\u001b[1;34m(*a, **kw)\u001b[0m\n\u001b[0;32m    181\u001b[0m converted \u001b[38;5;241m=\u001b[39m convert_exception(e\u001b[38;5;241m.\u001b[39mjava_exception)\n\u001b[0;32m    182\u001b[0m \u001b[38;5;28;01mif\u001b[39;00m \u001b[38;5;129;01mnot\u001b[39;00m \u001b[38;5;28misinstance\u001b[39m(converted, UnknownException):\n\u001b[0;32m    183\u001b[0m     \u001b[38;5;66;03m# Hide where the exception came from that shows a non-Pythonic\u001b[39;00m\n\u001b[0;32m    184\u001b[0m     \u001b[38;5;66;03m# JVM exception message.\u001b[39;00m\n\u001b[1;32m--> 185\u001b[0m     \u001b[38;5;28;01mraise\u001b[39;00m converted \u001b[38;5;28;01mfrom\u001b[39;00m \u001b[38;5;28;01mNone\u001b[39;00m\n\u001b[0;32m    186\u001b[0m \u001b[38;5;28;01melse\u001b[39;00m:\n\u001b[0;32m    187\u001b[0m     \u001b[38;5;28;01mraise\u001b[39;00m\n",
      "\u001b[1;31mAnalysisException\u001b[0m: [UNRESOLVED_COLUMN.WITH_SUGGESTION] A column or function parameter with name `SibSp` cannot be resolved. Did you mean one of the following? [`_c0`, `_c1`, `_c2`, `_c3`, `_c4`, `_c5`, `_c6`, `_c7`, `_c8`, `_c9`, `_c10`]."
     ]
    }
   ],
   "source": [
    "# subset\n",
    "df_pyspark.na.drop(how = \"any\", subset=['SibSp']).show()"
   ]
  },
  {
   "cell_type": "code",
   "execution_count": 8,
   "id": "842475f5-2b91-4cce-922d-e75d6a2bd968",
   "metadata": {},
   "outputs": [
    {
     "name": "stdout",
     "output_type": "stream",
     "text": [
      "+-----------+------+--------------------+------+--------------+-----+-----+----------------+-------+--------------+--------+\n",
      "|        _c0|   _c1|                 _c2|   _c3|           _c4|  _c5|  _c6|             _c7|    _c8|           _c9|    _c10|\n",
      "+-----------+------+--------------------+------+--------------+-----+-----+----------------+-------+--------------+--------+\n",
      "|PassengerId|Pclass|                Name|   Sex|           Age|SibSp|Parch|          Ticket|   Fare|         Cabin|Embarked|\n",
      "|        892|     3|    Kelly, Mr. James|  male|          34.5|    0|    0|          330911| 7.8292|Missing Values|       Q|\n",
      "|        893|     3|Wilkes, Mrs. Jame...|female|            47|    1|    0|          363272|      7|Missing Values|       S|\n",
      "|        894|     2|Myles, Mr. Thomas...|  male|            62|    0|    0|          240276| 9.6875|Missing Values|       Q|\n",
      "|        895|     3|    Wirz, Mr. Albert|  male|            27|    0|    0|          315154| 8.6625|Missing Values|       S|\n",
      "|        896|     3|Hirvonen, Mrs. Al...|female|            22|    1|    1|         3101298|12.2875|Missing Values|       S|\n",
      "|        897|     3|Svensson, Mr. Joh...|  male|            14|    0|    0|            7538|  9.225|Missing Values|       S|\n",
      "|        898|     3|Connolly, Miss. Kate|female|            30|    0|    0|          330972| 7.6292|Missing Values|       Q|\n",
      "|        899|     2|Caldwell, Mr. Alb...|  male|            26|    1|    1|          248738|     29|Missing Values|       S|\n",
      "|        900|     3|Abrahim, Mrs. Jos...|female|            18|    0|    0|            2657| 7.2292|Missing Values|       C|\n",
      "|        901|     3|Davies, Mr. John ...|  male|            21|    2|    0|       A/4 48871|  24.15|Missing Values|       S|\n",
      "|        902|     3|    Ilieff, Mr. Ylio|  male|Missing Values|    0|    0|          349220| 7.8958|Missing Values|       S|\n",
      "|        903|     1|Jones, Mr. Charle...|  male|            46|    0|    0|             694|     26|Missing Values|       S|\n",
      "|        904|     1|Snyder, Mrs. John...|female|            23|    1|    0|           21228|82.2667|           B45|       S|\n",
      "|        905|     2|Howard, Mr. Benjamin|  male|            63|    1|    0|           24065|     26|Missing Values|       S|\n",
      "|        906|     1|Chaffee, Mrs. Her...|female|            47|    1|    0|     W.E.P. 5734| 61.175|           E31|       S|\n",
      "|        907|     2|del Carlo, Mrs. S...|female|            24|    1|    0|   SC/PARIS 2167|27.7208|Missing Values|       C|\n",
      "|        908|     2|   Keane, Mr. Daniel|  male|            35|    0|    0|          233734|  12.35|Missing Values|       Q|\n",
      "|        909|     3|   Assaf, Mr. Gerios|  male|            21|    0|    0|            2692|  7.225|Missing Values|       C|\n",
      "|        910|     3|Ilmakangas, Miss....|female|            27|    1|    0|STON/O2. 3101270|  7.925|Missing Values|       S|\n",
      "+-----------+------+--------------------+------+--------------+-----+-----+----------------+-------+--------------+--------+\n",
      "only showing top 20 rows\n",
      "\n"
     ]
    }
   ],
   "source": [
    "# filling the missing value\n",
    "df_pyspark.na.fill('Missing Values').show()"
   ]
  },
  {
   "cell_type": "code",
   "execution_count": 14,
   "id": "228e26a6-3b56-4a4c-bdd7-32413eb2efa3",
   "metadata": {},
   "outputs": [],
   "source": [
    "# replacing null values\n",
    "from pyspark.ml.feature import Imputer\n",
    "imputer = Imputer(\n",
    "    inputCols=['SibSp', 'Parch'],\n",
    "    outputCols=[\"{}_imputed\".format(c) for c in ['SibSp', 'Parch']]\n",
    ").setStrategy(\"mean\")"
   ]
  },
  {
   "cell_type": "code",
   "execution_count": 15,
   "id": "06dcf9fa-01db-42b2-9113-03bc1e2092a2",
   "metadata": {},
   "outputs": [
    {
     "name": "stdout",
     "output_type": "stream",
     "text": [
      "+-----------+------+--------------------+------+----+-----+-----+----------------+-------+-----+--------+-------------+-------------+\n",
      "|PassengerId|Pclass|                Name|   Sex| Age|SibSp|Parch|          Ticket|   Fare|Cabin|Embarked|SibSp_imputed|Parch_imputed|\n",
      "+-----------+------+--------------------+------+----+-----+-----+----------------+-------+-----+--------+-------------+-------------+\n",
      "|        892|     3|    Kelly, Mr. James|  male|34.5|    0|    0|          330911| 7.8292| NULL|       Q|            0|            0|\n",
      "|        893|     3|Wilkes, Mrs. Jame...|female|47.0|    1|    0|          363272|    7.0| NULL|       S|            1|            0|\n",
      "|        894|     2|Myles, Mr. Thomas...|  male|62.0|    0|    0|          240276| 9.6875| NULL|       Q|            0|            0|\n",
      "|        895|     3|    Wirz, Mr. Albert|  male|27.0|    0|    0|          315154| 8.6625| NULL|       S|            0|            0|\n",
      "|        896|     3|Hirvonen, Mrs. Al...|female|22.0|    1|    1|         3101298|12.2875| NULL|       S|            1|            1|\n",
      "|        897|     3|Svensson, Mr. Joh...|  male|14.0|    0|    0|            7538|  9.225| NULL|       S|            0|            0|\n",
      "|        898|     3|Connolly, Miss. Kate|female|30.0|    0|    0|          330972| 7.6292| NULL|       Q|            0|            0|\n",
      "|        899|     2|Caldwell, Mr. Alb...|  male|26.0|    1|    1|          248738|   29.0| NULL|       S|            1|            1|\n",
      "|        900|     3|Abrahim, Mrs. Jos...|female|18.0|    0|    0|            2657| 7.2292| NULL|       C|            0|            0|\n",
      "|        901|     3|Davies, Mr. John ...|  male|21.0|    2|    0|       A/4 48871|  24.15| NULL|       S|            2|            0|\n",
      "|        902|     3|    Ilieff, Mr. Ylio|  male|NULL|    0|    0|          349220| 7.8958| NULL|       S|            0|            0|\n",
      "|        903|     1|Jones, Mr. Charle...|  male|46.0|    0|    0|             694|   26.0| NULL|       S|            0|            0|\n",
      "|        904|     1|Snyder, Mrs. John...|female|23.0|    1|    0|           21228|82.2667|  B45|       S|            1|            0|\n",
      "|        905|     2|Howard, Mr. Benjamin|  male|63.0|    1|    0|           24065|   26.0| NULL|       S|            1|            0|\n",
      "|        906|     1|Chaffee, Mrs. Her...|female|47.0|    1|    0|     W.E.P. 5734| 61.175|  E31|       S|            1|            0|\n",
      "|        907|     2|del Carlo, Mrs. S...|female|24.0|    1|    0|   SC/PARIS 2167|27.7208| NULL|       C|            1|            0|\n",
      "|        908|     2|   Keane, Mr. Daniel|  male|35.0|    0|    0|          233734|  12.35| NULL|       Q|            0|            0|\n",
      "|        909|     3|   Assaf, Mr. Gerios|  male|21.0|    0|    0|            2692|  7.225| NULL|       C|            0|            0|\n",
      "|        910|     3|Ilmakangas, Miss....|female|27.0|    1|    0|STON/O2. 3101270|  7.925| NULL|       S|            1|            0|\n",
      "|        911|     3|\"Assaf Khalil, Mr...|female|45.0|    0|    0|            2696|  7.225| NULL|       C|            0|            0|\n",
      "+-----------+------+--------------------+------+----+-----+-----+----------------+-------+-----+--------+-------------+-------------+\n",
      "only showing top 20 rows\n",
      "\n"
     ]
    }
   ],
   "source": [
    "imputer.fit(df_pyspark).transform(df_pyspark).show()"
   ]
  },
  {
   "cell_type": "code",
   "execution_count": 16,
   "id": "311a3c34-d467-4118-a088-8b6fb7b82e9e",
   "metadata": {},
   "outputs": [],
   "source": [
    "# filter operations"
   ]
  },
  {
   "cell_type": "code",
   "execution_count": 18,
   "id": "8f2f1a74-3d06-4029-ad29-ba85eae2815e",
   "metadata": {},
   "outputs": [
    {
     "name": "stdout",
     "output_type": "stream",
     "text": [
      "+-----------+------+--------------------+------+----+-----+-----+-------------+-------+---------------+--------+\n",
      "|PassengerId|Pclass|                Name|   Sex| Age|SibSp|Parch|       Ticket|   Fare|          Cabin|Embarked|\n",
      "+-----------+------+--------------------+------+----+-----+-----+-------------+-------+---------------+--------+\n",
      "|        894|     2|Myles, Mr. Thomas...|  male|62.0|    0|    0|       240276| 9.6875|           NULL|       Q|\n",
      "|        896|     3|Hirvonen, Mrs. Al...|female|22.0|    1|    1|      3101298|12.2875|           NULL|       S|\n",
      "|        897|     3|Svensson, Mr. Joh...|  male|14.0|    0|    0|         7538|  9.225|           NULL|       S|\n",
      "|        899|     2|Caldwell, Mr. Alb...|  male|26.0|    1|    1|       248738|   29.0|           NULL|       S|\n",
      "|        901|     3|Davies, Mr. John ...|  male|21.0|    2|    0|    A/4 48871|  24.15|           NULL|       S|\n",
      "|        903|     1|Jones, Mr. Charle...|  male|46.0|    0|    0|          694|   26.0|           NULL|       S|\n",
      "|        904|     1|Snyder, Mrs. John...|female|23.0|    1|    0|        21228|82.2667|            B45|       S|\n",
      "|        905|     2|Howard, Mr. Benjamin|  male|63.0|    1|    0|        24065|   26.0|           NULL|       S|\n",
      "|        906|     1|Chaffee, Mrs. Her...|female|47.0|    1|    0|  W.E.P. 5734| 61.175|            E31|       S|\n",
      "|        907|     2|del Carlo, Mrs. S...|female|24.0|    1|    0|SC/PARIS 2167|27.7208|           NULL|       C|\n",
      "|        908|     2|   Keane, Mr. Daniel|  male|35.0|    0|    0|       233734|  12.35|           NULL|       Q|\n",
      "|        912|     1|Rothschild, Mr. M...|  male|55.0|    1|    0|     PC 17603|   59.4|           NULL|       C|\n",
      "|        914|     1|Flegenheim, Mrs. ...|female|NULL|    0|    0|     PC 17598|31.6833|           NULL|       S|\n",
      "|        915|     1|Williams, Mr. Ric...|  male|21.0|    0|    1|     PC 17597|61.3792|           NULL|       C|\n",
      "|        916|     1|Ryerson, Mrs. Art...|female|48.0|    1|    3|     PC 17608|262.375|B57 B59 B63 B66|       C|\n",
      "|        917|     3|Robins, Mr. Alexa...|  male|50.0|    1|    0|    A/5. 3337|   14.5|           NULL|       S|\n",
      "|        918|     1|Ostby, Miss. Hele...|female|22.0|    0|    1|       113509|61.9792|            B36|       C|\n",
      "|        920|     1|Brady, Mr. John B...|  male|41.0|    0|    0|       113054|   30.5|            A21|       S|\n",
      "|        921|     3|   Samaan, Mr. Elias|  male|NULL|    2|    0|         2662|21.6792|           NULL|       C|\n",
      "|        922|     2|Louch, Mr. Charle...|  male|50.0|    1|    0|   SC/AH 3085|   26.0|           NULL|       S|\n",
      "+-----------+------+--------------------+------+----+-----+-----+-------------+-------+---------------+--------+\n",
      "only showing top 20 rows\n",
      "\n"
     ]
    }
   ],
   "source": [
    "df_pyspark.filter(\"Fare>8.6625\").show()"
   ]
  },
  {
   "cell_type": "code",
   "execution_count": 20,
   "id": "1c9ce0fa-83ea-43ab-9928-db6e86f5bb13",
   "metadata": {},
   "outputs": [
    {
     "name": "stdout",
     "output_type": "stream",
     "text": [
      "+-----------+------+--------------------+------+----+-----+-----+-------------+-------+---------------+--------+\n",
      "|PassengerId|Pclass|                Name|   Sex| Age|SibSp|Parch|       Ticket|   Fare|          Cabin|Embarked|\n",
      "+-----------+------+--------------------+------+----+-----+-----+-------------+-------+---------------+--------+\n",
      "|        896|     3|Hirvonen, Mrs. Al...|female|22.0|    1|    1|      3101298|12.2875|           NULL|       S|\n",
      "|        899|     2|Caldwell, Mr. Alb...|  male|26.0|    1|    1|       248738|   29.0|           NULL|       S|\n",
      "|        901|     3|Davies, Mr. John ...|  male|21.0|    2|    0|    A/4 48871|  24.15|           NULL|       S|\n",
      "|        904|     1|Snyder, Mrs. John...|female|23.0|    1|    0|        21228|82.2667|            B45|       S|\n",
      "|        905|     2|Howard, Mr. Benjamin|  male|63.0|    1|    0|        24065|   26.0|           NULL|       S|\n",
      "|        906|     1|Chaffee, Mrs. Her...|female|47.0|    1|    0|  W.E.P. 5734| 61.175|            E31|       S|\n",
      "|        907|     2|del Carlo, Mrs. S...|female|24.0|    1|    0|SC/PARIS 2167|27.7208|           NULL|       C|\n",
      "|        912|     1|Rothschild, Mr. M...|  male|55.0|    1|    0|     PC 17603|   59.4|           NULL|       C|\n",
      "|        916|     1|Ryerson, Mrs. Art...|female|48.0|    1|    3|     PC 17608|262.375|B57 B59 B63 B66|       C|\n",
      "|        917|     3|Robins, Mr. Alexa...|  male|50.0|    1|    0|    A/5. 3337|   14.5|           NULL|       S|\n",
      "|        921|     3|   Samaan, Mr. Elias|  male|NULL|    2|    0|         2662|21.6792|           NULL|       C|\n",
      "|        922|     2|Louch, Mr. Charle...|  male|50.0|    1|    0|   SC/AH 3085|   26.0|           NULL|       S|\n",
      "|        923|     2|Jefferys, Mr. Cli...|  male|24.0|    2|    0|   C.A. 31029|   31.5|           NULL|       S|\n",
      "|        924|     3|Dean, Mrs. Bertra...|female|33.0|    1|    2|    C.A. 2315| 20.575|           NULL|       S|\n",
      "|        925|     3|\"Johnston, Mrs. A...|female|NULL|    1|    2|   W./C. 6607|  23.45|           NULL|       S|\n",
      "|        926|     1|Mock, Mr. Philipp...|  male|30.0|    1|    0|        13236|  57.75|            C78|       C|\n",
      "|        936|     1|Kimball, Mrs. Edw...|female|45.0|    1|    0|        11753|52.5542|            D19|       S|\n",
      "|        942|     1|Smith, Mr. Lucien...|  male|24.0|    1|    0|        13695|   60.0|            C31|       S|\n",
      "|        944|     2|Hocking, Miss. El...|female|20.0|    2|    1|        29105|   23.0|           NULL|       S|\n",
      "|        945|     1|Fortune, Miss. Et...|female|28.0|    3|    2|        19950|  263.0|    C23 C25 C27|       S|\n",
      "+-----------+------+--------------------+------+----+-----+-----+-------------+-------+---------------+--------+\n",
      "only showing top 20 rows\n",
      "\n"
     ]
    }
   ],
   "source": [
    "df_pyspark.filter((df_pyspark['Fare']>8.6625) & (df_pyspark['SibSp']>0)).show()"
   ]
  },
  {
   "cell_type": "code",
   "execution_count": 6,
   "id": "0cab6afa-9d0f-4841-ba17-fb4d2da0fd19",
   "metadata": {},
   "outputs": [
    {
     "name": "stdout",
     "output_type": "stream",
     "text": [
      "+-----------+------+--------------------+------+----+-----+-----+------------------+------+-----+--------+\n",
      "|PassengerId|Pclass|                Name|   Sex| Age|SibSp|Parch|            Ticket|  Fare|Cabin|Embarked|\n",
      "+-----------+------+--------------------+------+----+-----+-----+------------------+------+-----+--------+\n",
      "|        892|     3|    Kelly, Mr. James|  male|34.5|    0|    0|            330911|7.8292| NULL|       Q|\n",
      "|        893|     3|Wilkes, Mrs. Jame...|female|47.0|    1|    0|            363272|   7.0| NULL|       S|\n",
      "|        895|     3|    Wirz, Mr. Albert|  male|27.0|    0|    0|            315154|8.6625| NULL|       S|\n",
      "|        898|     3|Connolly, Miss. Kate|female|30.0|    0|    0|            330972|7.6292| NULL|       Q|\n",
      "|        900|     3|Abrahim, Mrs. Jos...|female|18.0|    0|    0|              2657|7.2292| NULL|       C|\n",
      "|        902|     3|    Ilieff, Mr. Ylio|  male|NULL|    0|    0|            349220|7.8958| NULL|       S|\n",
      "|        909|     3|   Assaf, Mr. Gerios|  male|21.0|    0|    0|              2692| 7.225| NULL|       C|\n",
      "|        910|     3|Ilmakangas, Miss....|female|27.0|    1|    0|  STON/O2. 3101270| 7.925| NULL|       S|\n",
      "|        911|     3|\"Assaf Khalil, Mr...|female|45.0|    0|    0|              2696| 7.225| NULL|       C|\n",
      "|        913|     3|Olsen, Master. Ar...|  male| 9.0|    0|    1|           C 17368|3.1708| NULL|       S|\n",
      "|        919|     3|   Daher, Mr. Shedid|  male|22.5|    0|    0|              2698| 7.225| NULL|       C|\n",
      "|        927|     3|\"Katavelas, Mr. V...|  male|18.5|    0|    0|              2682|7.2292| NULL|       C|\n",
      "|        928|     3| Roth, Miss. Sarah A|female|NULL|    0|    0|            342712|  8.05| NULL|       S|\n",
      "|        929|     3|  Cacic, Miss. Manda|female|21.0|    0|    0|            315087|8.6625| NULL|       S|\n",
      "|        934|     3|Goldsmith, Mr. Na...|  male|41.0|    0|    0|SOTON/O.Q. 3101263|  7.85| NULL|       S|\n",
      "|        937|     3|Peltomaki, Mr. Ni...|  male|25.0|    0|    0| STON/O 2. 3101291| 7.925| NULL|       S|\n",
      "|        939|     3|Shaughnessy, Mr. ...|  male|NULL|    0|    0|            370374|  7.75| NULL|       Q|\n",
      "|        948|     3|     Cor, Mr. Bartol|  male|35.0|    0|    0|            349230|7.8958| NULL|       S|\n",
      "|        949|     3|Abelseth, Mr. Ola...|  male|25.0|    0|    0|            348122|  7.65|F G63|       S|\n",
      "|        952|     3|     Dika, Mr. Mirko|  male|17.0|    0|    0|            349232|7.8958| NULL|       S|\n",
      "+-----------+------+--------------------+------+----+-----+-----+------------------+------+-----+--------+\n",
      "only showing top 20 rows\n",
      "\n"
     ]
    }
   ],
   "source": [
    "# inverse operation\n",
    "df_pyspark.filter(~(df_pyspark['Fare']>8.6625)).show()"
   ]
  },
  {
   "cell_type": "code",
   "execution_count": 9,
   "id": "a924a91e-9cab-4664-bfd4-19e39e06ef1b",
   "metadata": {},
   "outputs": [
    {
     "name": "stdout",
     "output_type": "stream",
     "text": [
      "+--------------------+----------------+-----------+--------+----------+----------+---------+\n",
      "|                Name|sum(PassengerId)|sum(Pclass)|sum(Age)|sum(SibSp)|sum(Parch)|sum(Fare)|\n",
      "+--------------------+----------------+-----------+--------+----------+----------+---------+\n",
      "|Rosblom, Miss. Sa...|            1176|          3|     2.0|         1|         1|  20.2125|\n",
      "|  Lithman, Mr. Simon|            1062|          3|    NULL|         0|         0|     7.55|\n",
      "|Collett, Mr. Sidn...|            1099|          2|    24.0|         0|         0|     10.5|\n",
      "|Abrahamsson, Mr. ...|            1143|          3|    20.0|         0|         0|    7.925|\n",
      "|Bjorklund, Mr. Er...|             954|          3|    18.0|         0|         0|     7.75|\n",
      "|Hocking, Miss. El...|             944|          2|    20.0|         2|         1|     23.0|\n",
      "|Ovies y Rodriguez...|             965|          1|    28.5|         0|         0|  27.7208|\n",
      "|Hansen, Mrs. Clau...|            1201|          3|    45.0|         1|         0|  14.1083|\n",
      "|Maguire, Mr. John...|            1227|          1|    30.0|         0|         0|     26.0|\n",
      "|Bucknell, Mrs. Wi...|             940|          1|    60.0|         0|         0|  76.2917|\n",
      "|Cook, Mrs. (Selen...|            1114|          2|    22.0|         0|         0|     10.5|\n",
      "|Ostby, Miss. Hele...|             918|          1|    22.0|         0|         1|  61.9792|\n",
      "|\"Moubarek, Mrs. G...|            1117|          3|    NULL|         0|         2|  15.2458|\n",
      "|Gilbert, Mr. William|            1285|          2|    47.0|         0|         0|     10.5|\n",
      "|Geiger, Miss. Amalie|             966|          1|    35.0|         0|         0|    211.5|\n",
      "|    Miles, Mr. Frank|             968|          3|    NULL|         0|         0|     8.05|\n",
      "|Straus, Mrs. Isid...|            1006|          1|    63.0|         1|         0| 221.7792|\n",
      "|Aldworth, Mr. Cha...|             970|          2|    30.0|         0|         0|     13.0|\n",
      "|Bryhl, Miss. Dagm...|            1167|          2|    20.0|         1|         0|     26.0|\n",
      "|Phillips, Miss. A...|            1078|          2|    21.0|         0|         1|     21.0|\n",
      "+--------------------+----------------+-----------+--------+----------+----------+---------+\n",
      "only showing top 20 rows\n",
      "\n"
     ]
    }
   ],
   "source": [
    "# groupby and aggrigate function\n",
    "df_pyspark.groupBy('Name').sum().show()"
   ]
  },
  {
   "cell_type": "code",
   "execution_count": 10,
   "id": "0cf183a6-38a1-4c17-ae80-e7fdca7a23fb",
   "metadata": {},
   "outputs": [],
   "source": [
    "# using test 3 data set"
   ]
  },
  {
   "cell_type": "code",
   "execution_count": 12,
   "id": "94b2e5a1-d8b0-4647-a6b0-489995e9da61",
   "metadata": {},
   "outputs": [
    {
     "name": "stdout",
     "output_type": "stream",
     "text": [
      "+---------+------------+------+\n",
      "|      _c0|         _c1|   _c2|\n",
      "+---------+------------+------+\n",
      "|     Name| Departments|salary|\n",
      "|    Krish|Data Science| 10000|\n",
      "|    Krish|         IOT|  5000|\n",
      "|   Mahesh|    Big Data|  4000|\n",
      "|    Krish|    Big Data|  4000|\n",
      "|   Mahesh|Data Science|  3000|\n",
      "|Sudhanshu|Data Science| 20000|\n",
      "|Sudhanshu|         IOT| 10000|\n",
      "|Sudhanshu|    Big Data|  5000|\n",
      "|    Sunny|Data Science| 10000|\n",
      "|    Sunny|    Big Data|  2000|\n",
      "+---------+------------+------+\n",
      "\n"
     ]
    }
   ],
   "source": [
    "df_pyspark = spark.read.csv('test3.csv')\n",
    "df_pyspark.show()"
   ]
  },
  {
   "cell_type": "code",
   "execution_count": 14,
   "id": "0aca55b4-982b-4f22-97db-20358d7705c0",
   "metadata": {},
   "outputs": [
    {
     "name": "stdout",
     "output_type": "stream",
     "text": [
      "+---------+------------+------+\n",
      "|     Name| Departments|salary|\n",
      "+---------+------------+------+\n",
      "|    Krish|Data Science| 10000|\n",
      "|    Krish|         IOT|  5000|\n",
      "|   Mahesh|    Big Data|  4000|\n",
      "|    Krish|    Big Data|  4000|\n",
      "|   Mahesh|Data Science|  3000|\n",
      "|Sudhanshu|Data Science| 20000|\n",
      "|Sudhanshu|         IOT| 10000|\n",
      "|Sudhanshu|    Big Data|  5000|\n",
      "|    Sunny|Data Science| 10000|\n",
      "|    Sunny|    Big Data|  2000|\n",
      "+---------+------------+------+\n",
      "\n"
     ]
    }
   ],
   "source": [
    "df_pyspark = spark.read.option('header','true').csv('test3.csv', inferSchema=True)\n",
    "df_pyspark.show()"
   ]
  },
  {
   "cell_type": "code",
   "execution_count": 15,
   "id": "2c25758e-5df9-47f8-a041-c7e7492fd007",
   "metadata": {},
   "outputs": [
    {
     "name": "stdout",
     "output_type": "stream",
     "text": [
      "+---------+-----------+\n",
      "|     Name|sum(salary)|\n",
      "+---------+-----------+\n",
      "|Sudhanshu|      35000|\n",
      "|    Sunny|      12000|\n",
      "|    Krish|      19000|\n",
      "|   Mahesh|       7000|\n",
      "+---------+-----------+\n",
      "\n"
     ]
    }
   ],
   "source": [
    "df_pyspark.groupBy('Name').sum().show()"
   ]
  },
  {
   "cell_type": "code",
   "execution_count": 16,
   "id": "4cb780dc-4e47-4333-b750-804553a259de",
   "metadata": {},
   "outputs": [
    {
     "name": "stdout",
     "output_type": "stream",
     "text": [
      "+------------+-----------+\n",
      "| Departments|sum(salary)|\n",
      "+------------+-----------+\n",
      "|         IOT|      15000|\n",
      "|    Big Data|      15000|\n",
      "|Data Science|      43000|\n",
      "+------------+-----------+\n",
      "\n"
     ]
    }
   ],
   "source": [
    "# Groupby departments which gives maximum salary\n",
    "df_pyspark.groupBy('Departments').sum().show()"
   ]
  },
  {
   "cell_type": "code",
   "execution_count": 17,
   "id": "e6d2c2dd-5c20-453c-b7bf-d068309643c3",
   "metadata": {},
   "outputs": [
    {
     "name": "stdout",
     "output_type": "stream",
     "text": [
      "+------------+-----------+\n",
      "| Departments|avg(salary)|\n",
      "+------------+-----------+\n",
      "|         IOT|     7500.0|\n",
      "|    Big Data|     3750.0|\n",
      "|Data Science|    10750.0|\n",
      "+------------+-----------+\n",
      "\n"
     ]
    }
   ],
   "source": [
    "df_pyspark.groupBy('Departments').mean().show()"
   ]
  },
  {
   "cell_type": "code",
   "execution_count": 18,
   "id": "92dc79cd-d075-4ad4-a279-2f142dc3dfbb",
   "metadata": {},
   "outputs": [
    {
     "name": "stdout",
     "output_type": "stream",
     "text": [
      "+------------+-----+\n",
      "| Departments|count|\n",
      "+------------+-----+\n",
      "|         IOT|    2|\n",
      "|    Big Data|    4|\n",
      "|Data Science|    4|\n",
      "+------------+-----+\n",
      "\n"
     ]
    }
   ],
   "source": [
    "df_pyspark.groupBy('Departments').count().show()"
   ]
  },
  {
   "cell_type": "code",
   "execution_count": 19,
   "id": "0bb8173a-d057-495f-87ed-53c8036d0a36",
   "metadata": {},
   "outputs": [
    {
     "name": "stdout",
     "output_type": "stream",
     "text": [
      "+-----------+\n",
      "|sum(Salary)|\n",
      "+-----------+\n",
      "|      73000|\n",
      "+-----------+\n",
      "\n"
     ]
    }
   ],
   "source": [
    "df_pyspark.agg({'Salary':'sum'}).show()"
   ]
  },
  {
   "cell_type": "code",
   "execution_count": 20,
   "id": "e02cf6d4-5fef-4a0d-8149-701b8c2140d1",
   "metadata": {},
   "outputs": [
    {
     "name": "stdout",
     "output_type": "stream",
     "text": [
      "+---------+-----------+\n",
      "|     Name|max(salary)|\n",
      "+---------+-----------+\n",
      "|Sudhanshu|      20000|\n",
      "|    Sunny|      10000|\n",
      "|    Krish|      10000|\n",
      "|   Mahesh|       4000|\n",
      "+---------+-----------+\n",
      "\n"
     ]
    }
   ],
   "source": [
    "df_pyspark.groupBy('Name').max().show()"
   ]
  },
  {
   "cell_type": "code",
   "execution_count": null,
   "id": "e4c476b5-e00f-4f47-8446-c08a654c0131",
   "metadata": {},
   "outputs": [],
   "source": []
  }
 ],
 "metadata": {
  "kernelspec": {
   "display_name": "Python 3 (ipykernel)",
   "language": "python",
   "name": "python3"
  },
  "language_info": {
   "codemirror_mode": {
    "name": "ipython",
    "version": 3
   },
   "file_extension": ".py",
   "mimetype": "text/x-python",
   "name": "python",
   "nbconvert_exporter": "python",
   "pygments_lexer": "ipython3",
   "version": "3.12.1"
  }
 },
 "nbformat": 4,
 "nbformat_minor": 5
}
